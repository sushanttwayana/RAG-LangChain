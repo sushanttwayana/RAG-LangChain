{
 "cells": [
  {
   "cell_type": "code",
   "execution_count": 1,
   "metadata": {},
   "outputs": [
    {
     "data": {
      "text/plain": [
       "[Document(metadata={'source': '../bot1\\\\data\\\\monopoly.pdf', 'page': 0}, page_content='MONOPOLY \\nProperty Trading Game from Parker Brothers\" \\nAGES 8+ \\n2 to 8 Players \\nContents: Gameboard, 3 dice, tokens, 32 houses, I2 hotels, Chance \\nand Community Chest cards, Title Deed cards, play money and a Banker\\'s tray. \\nNow there\\'s a faster way to play MONOPOLY. Choose to play by \\nthe classic rules for buying, renting and selling properties or use the \\nSpeed Die to get into the action faster. If you\\'ve never played the classic \\nMONOPOLY game, refer to the Classic Rules beginning on the next page. \\nIf you already know how to play and want to use the Speed Die, just \\nread the section below for the additional Speed Die rules. \\nSPEED DIE RULES \\nLearnins how to Play with the S~eed Die IS as \\n/ \\n fast as playing with i\\'t. \\n1. When starting the game, hand out an extra $1,000 to each player \\n(two $5005 should work). The game moves fast and you\\'ll need \\nthe extra cash to buy and build. \\n2. Do not use the Speed Die until you\\'ve landed on or passed over \\nGO for the first time. Once you collect that first $200 salary, you\\'ll \\nuse the Speed Die for the rest of the game. This means that some \\nplayers will start using the die before others. \\n3. Once you start using the Speed Die, roll it along with the two \\nwhite dice on your turn. Then do the following depending on \\nwhat you rolled. \\n1, 2, or 3: Add this number to the roll of the two white \\ndice. You\\'ll zoom around the board. '),\n",
       " Document(metadata={'source': '../bot1\\\\data\\\\monopoly.pdf', 'page': 1}, page_content='Bus: This lets you \"get off the bus early.\" Look at the two white \\ndice. You can move the value of one die, the other die, or the \\nsum of both dice. So if you rolled a 1 and a 5, you can move \\n1 space, 5 spaces, or 6 spaces: \\\\t\\'s your choice. \\nMr. Monopoly: First, move the sum of the two white dice \\nand resolve the space you land on (such as drawing a card, \\nbuying the property, paying rent, etc.). Then, one of two \\nthings will happen depending on whether or not there is still \\nproperty in the bank. \\nYES, there is property in the bank -Advance to the NEXT \\nproperty that the bank still holds and buy it if you wish. If you \\ndon\\'t want to buy this property, move to the space anyway \\nand put the property up for auction. \\nNO, there are no more properties in the bank - Advance to the \\nNOCT property on which you will owe another player money. \\nA few minor details: \\nOnly the white dice are used when determining if you rolled doubles. \\nDo not look at the Speed Die. \\nIf you roll a three-of-a-kind (all of the dice show the same number), \\nyou can move anywhere you want on the board! \\nIf you get sent to jail during your move (either by landing on the \"Go \\nto Jail\" space or by rolling doubles three times in a row) then your turn \\nis over and you do not get to use the Speed Die for that turn. \\nUse the white dice ONLY when rolling to get out of jail. \\nL \\nUse the sum of all three dice when determining how much to pay on \\na utility. Note: The Bus and Mr. Monopoly are valued at 0. \\nCLASSIC MONOPOW RULES \\nOBJECT: The object of the game IS to become the \\nwealthiest player through buying, renting and selling \\nproperty. \\nPREPARATION: Place the board on a table and put \\nthe Chance and Community Chest cards facedown on \\ntheir allotted spaces on the board. Each player chooses one token to \\nrepresent himther while traveling around the board. '),\n",
       " Document(metadata={'source': '../bot1\\\\data\\\\monopoly.pdf', 'page': 2}, page_content='Each player is given $1,500 divided as follows: P each of $500s, \\n$100~ and $50~; 6 $40~; 5 each of $105, $5~ and $Is. \\nAll remaining money and other equipment go to the Bank. Stack the .. \\nBank\\'s money on edge in the compartments in the plastic Banker\\'s tray. \\nBANKER. Select as Banker a player who will also \\nmake a good Auctioneer A Banker who plays \\n~n the game must keep hislher personal funds \\nseparate from those of the Bank. When more than \\nf~ve persons play, the Banker may elect to act only \\nas Banker and Auctioneer. \\nTHE BANK: Besides the Bank\\'s money, the Bank \\nholds the Title Deed cards and houses and hotels prior to purchase \\nand use by the players. The Bank pays salaries and bonuses. It sells \\nand auctions properties and hands out the~r proper Title Deed cards; \\nit sells houses and hotels to the players and loans money when \\nrequired on mortgages. \\nThe Bank collects all taxes, fines, loans and interest, and the price of \\nall properties which it sells and auctions. \\nThe Bank nwer \"goes broke.\" If the Bank runs out of money, the Banker \\nmay issue as much more as needed by writing on any ordinary paper. \\nTHE PLAY: Starting with the Banker, each player in turn throws the dice. \\nThe player with the highest total starts the play: Place your \\ntoken on the corner marked \"GO,\" throw the dice and move \\nyour token in the direction of the arrow the number of \\nspaces indicated by the dice. After you have completed \\nyour play, the turn passes to the left. The tokens remain \\non the spaces qccupied and proceed from that point on \\nthe player\\'s next turn. Two or more tokens may rest on the \\nsame space at the same time. \\nAccording to the space your token reaches, you may be entitled to \\nbuy real estate or other properties - or obliged to pay rent, pay taxes, \\ndraw a Chance or Community Chest card, \"Go to Jail,\" etc. \\nIf you throw doubles, you move your token as usual, the sum of the \\ntwo dice, and are subject to any privileges or penalties pertaining to \\nthe space on which you land. Retaining the dice, throw again and move \\nyour token as before. If you throw doubles three times in succession, \\nmove your token immediately to the space marked \"In Jail\" (see JAIL). '),\n",
       " Document(metadata={'source': '../bot1\\\\data\\\\monopoly.pdf', 'page': 3}, page_content='\"GO\": Each time a player\\'s token lands on or passes over \\nGO, whether by throwing the dice or drawing a card, \\nthe Banker pays himther a $200 sala,ry. \\nThe $200 is paid only once each time kound \\nthe board. However, if a player passing GO on \\nthe throw of the dice lands 2 spaces beyond it \\non Community Chest, or 7 spaces beyond \\nit on Chance, and draws the \"Advance to GO\" card, helshe collects \\n$200 for passing GO the first time and another $200 for reaching it the \\nsecond time by instructions on the card. \\nBUYING PROPERTY: Whenever you land on an unowned property you \\nmay buy that property from the Bank at its printed price. You receive the \\nTitle Deed card showing ownership; place it faceup in front of you. \\nIf you do not wish to buy the property, the Banker sells it at auction \\nto the highest bidder. The buyer pays the Bank the amount of the bid \\nin cash and receives the Title Deed card for that property. Any player, \\nincluding the one who declined the option to buy it at the printed \\nprice, may bid. Bidding may start at any price. \\nPAMNG \\n When you land on property owned by another player, \\nthe owner collects rent from you in accordance with the list printed on \\nits Title Deed card. \\nIf the property is mortgaged, no rent can be collected. When a \\nproperty is mortgaged, its Title Deed card is placed facedown in front \\nof the owner. \\n L \\nIt is an advantage to hold all the Title Deed cards in a color- \\ngroup (e.g., Boardwalk and Park Place; or Connecticut, Vermont and \\nOriental Avenues) because the owner may then charge double rent \\nfor unimproved properties in that color-group. This rule applies to \\nunmortgaged properties even if another property in that color-group is \\nmortgaged. \\nIt is even more advantageous to have houses or hotels on properties \\nbecause rents are much higher than for unimproved properties. \\nThe owner may not collect the rent if he/she fails to ask for it before \\nthe second player following throws the dice. \\n\"CHANCE\" AND \"COMMUNITY CHEST\": When you land on either of \\nthese spaces, take the top card from the deck indicated, follow the '),\n",
       " Document(metadata={'source': '../bot1\\\\data\\\\monopoly.pdf', 'page': 4}, page_content='instructions and return the card facedown to the bottom of the deck. \\nThe \"Get Out of Jail Free\" card is held until used and then returned to \\nthe bottom of the deck. If the player who draws it does not wish to use \\nit, helshe may sell it, at any time, to another player at a price agreeable \\nto both. \\n\"INCOME TAX\": If you land here you have two options: You may \\nestimate your tax at $900 and pay the Bank, or you may pay 10% of \\nyour total worth to the Bank. Your total worth is all your cash on hand, \\nprinted prices of mortgaged and unmortgaged properties and cost \\nprice of all buildings you own. \\nYou must decide which option you will take before you add up \\nyour total worth. \\n\"JAIL\": You land in Jail when. ..(I) your token lands on the space \\nmarked \"Go to Jail\"; (2) you draw a card marked \"Go to JailN; or \\n(3) you throw doubles three times in succession. \\nWhen you are sent to Jail you cannot \\ncollect your $200 salary in that move \\nsince, regardless of where your token \\nis on the board, you must move it \\ndirectly into Jail. Your turn ends when \\nyou are sent to Jail. \\nIf you are not \"sent\" to Jail but in the ordinary course of play land on \\nthat space, you are \"Just Visiting,\" you incur no penalty, and you move \\nahead in the usual manner on your next turn. \\nYou get out of Jail by.. .(I) throwing doubles on any of your next \\nthree turns; if you succeed in doing this you immediately move forward \\nthe number of spaces shown by your doubles throw; even though you \\nhad thrown doubles, you do not take another turn; (2) using the \"Get \\nOut of Jail Free\" card if you have it; (3) purchasing the \"Get Out of Jail \\nFree\" card from another player and playing it; (4) paying a fine of $50 \\nbefore you roll the dice on either of your next two turns. \\nIf you do not throw doubles by your third turn, you must pay the $50 \\nfine. You then get out of Jail and immediately move forward the number \\nof spaces shown by your throw. \\nEven though you are in Jail, you may buy and sell property, buy and \\nsell houses and hotels and collect rents. '),\n",
       " Document(metadata={'source': '../bot1\\\\data\\\\monopoly.pdf', 'page': 5}, page_content='\"FREE PARKING\": A player landing on this place does not \\nreceive any money, property or reward of any kind. This is just a \"free\" \\nresting place. \\nHOUSES: When you own all the propert~es in a color-group \\nyou may buy houses from the Bank and erect them on those properties. \\nIf you buy one house, you may put it on any \\none of those properties. The next house you \\nbuy must be erected on one of the unimproved \\nproperties of this or any other complete color- \\ngroup you may own. \\nThe price you must pay the Bank for each \\nhouse is shown on your ltle Deed card for the \\nproperty on which you erect the house. \\nThe owner still collects double rent from an opponent who lands on \\nthe unimproved properties of hisher complete color-group. \\nFollowing the above rules, you may buy and erect at any time as \\nmany houses as your judgement and financial standing will allow. But \\nyou must build evenly, i.e., you cannot erect more than one house on \\nany one property of any color-group until you have built one house on \\nwery property of that group. You may then begin on the second row \\nof houses, and so on, up to a limit of four houses to a property. For \\nexample, you cannot build three houses on one property if you have \\nonly one house on another property of that group. \\nAs you build evenly, you must also break down evenly ifyou sell \\nhouses back to the Bank (see SELLING PROPERTY). \\nHOTELS: When a player has four houses on each property of a \\ncomplete color-group, hdshe may buy a hotel from the Bank and erect \\nit on any property of the color-group. Hdshe returns the four houses \\nfrom that property to the Bank and pays the price for the hotel as shown \\non the Ttle Deed card. Only one hotel may be erected on any one \\nproperty. \\nBUILDING SHORTAGES: When the Bank has no houses to sell, players \\nwishing to build must wait for some player to return or sell histher \\nhouses to the Bank before building. If there are a limited number of \\nhouses and hotels available and two or more players wish to buy more \\nthan the Bank has, the houses or hotels must be sold at auction to the \\nhighest bidder. '),\n",
       " Document(metadata={'source': '../bot1\\\\data\\\\monopoly.pdf', 'page': 6}, page_content='SELLING PROPERN: Unimproved properties, railroads and util~ties \\n(but not buildings) may be sold to any player as a private transaction \\nfor any amount the owner can get; however, no property can be sold to \\n - \\nanother player if buildings are standing on any properties of that color- \\ngroup. Any buildings so located must be sold back to the Bank before \\nthe owner can sell any property of that color-group. \\nHouses and hotels may be sold back to the Bank at any time for one- \\nhalf the price paid for them. \\nAll houses on one color-group must be sold one by one, evenly, in \\nreverse of the manner in which they were erected. \\nAll hotels on one color-group may be sold at once, or they may be \\nsold one house at a time (one hotel equals five houses), evenly, in \\nreverse of the manner in which they were erected. \\nMORTGAGES: Unimproved properties can be mortgaged through the \\nBank at any time. Before an improved property can be mortgaged, all \\nthe buildings on all the properties of its color-group must be sold back \\nto the Bank at half price. The mortgage value is printed on each Title \\nDeed card. \\nNo rent can be collected on mortgaged properties or utilities, \\nbut rent can be collected on unmortgaged properties in the \\nsame group. \\nIn order to lift the mortgage, the owner must pay the Bank the \\namount of the mortgage plus 10% interest. When all the propert~es of \\na color-group are no longer mortgaged, the owner may begin to buy \\nback houses at full price. \\nThe player who mortgages property retains possession of it and \\nno other player may secure it by lifting the mortgage from the Bank. \\nHowever, the owner may sell this mortgaged property to another player \\nat any agreed price. If you are the new owner, you may lift the mortgage \\nat once if you wish by paying off the mortgage plus \\n10% interest to the Bank. If the mortgage is not lifted \\nat once, you must pay the Bank 10% interest when \\nyou buy the property and if you lift the \\nmortgage later you must pay the Bank \\nan additional 10% interest as well \\nas the amount of the mortgage. \\nn '),\n",
       " Document(metadata={'source': '../bot1\\\\data\\\\monopoly.pdf', 'page': 7}, page_content='BANKRUPTCY.. You are declared bankrupt if you owe more than you \\ncan pay either to another player or to the Bank. If your \\n , \\ndebt is to another player, you must tum over to that \\nplayer all that you have of value and retire from the \\ngame. In making this settlement, if you own houses or \\nhotels, you must retum these to the Bank in exchange \\nfor money to the extent of one-half the amount paid \\nfor them; this cash is given to the creditor. If you have \\nmortgaged property you also turn this property over \\nto your creditor but the new owner must at once pay . \\nthe Bank the amount of interest on the loan, which is 10% of the value of \\nthe property. The new owner who does this may then, at hislher option, \\npay the principal or hold the property until some later turn, then lift the \\nmortgage. If helshe holds property in this way until a later turn, helshe \\nmust pay the interest again upon lifting the mortgage. \\nShould you owe the Bank, instead of another player, more than you \\ncan pay (because of taxes or penalties) even by selling off buildings \\nand mortgaging property, you must turn over all assets to the Bank. In \\nthis case, the Bank immediately sells by auction all property so taken, \\nexcept buildings. A bankrupt player must immediately retire from the \\ngame. The last player left in the game wins. \\nMISCEUANEOUS: Money can be loaned to a player only by the Bank \\nand then only by mortgaging property. No player may borrow from or \\nlend money to another player. \\n L \\nWe will be happy to hear your questions or comments about this game. Write to: Hasbro \\nGames, Consumer Affairs Dept., P.O. Box 200, Pawtucket, RI 02862. Tel: 888-836-7025 \\n(toll free). Canadian consumers please write to: Hasbro Canada Corporation, 2350 de la \\nProvince, Longueuil, QC Canada, J4G 1G2. \\nThe HASBRO, PARKER BROTHERS, and MONOPOLY names and logos, the distinctive design of \\nthe gameboard, the four comer squares, the MR. MONOPOLY name and character, and each of the \\ndistinctive elements of the board and rules are trademarks of Hasbro for its property trading game \\nand game equipment. 02004,2007 Hasbro, Pawtucket, RI 02862. \\nAll Rights Reserved. TM & @3 denote U.S. Trademarks. \\n00009-1 \\n PROOF OF PURCHASE I ')]"
      ]
     },
     "execution_count": 1,
     "metadata": {},
     "output_type": "execute_result"
    }
   ],
   "source": [
    "from langchain_community.document_loaders import PyPDFLoader\n",
    "import os\n",
    "\n",
    "pdf_path = os.path.join(\"../bot1\", \"data\", \"monopoly.pdf\") \n",
    "\n",
    "loader = PyPDFLoader(pdf_path)\n",
    "docs = loader.load()\n",
    "docs"
   ]
  },
  {
   "cell_type": "code",
   "execution_count": 9,
   "metadata": {},
   "outputs": [],
   "source": [
    "# os.environ[\"OPENAI_API_KEY\"]=os.getenv(\"OPENAI_API_KEY\")\n",
    "\n"
   ]
  },
  {
   "cell_type": "code",
   "execution_count": 2,
   "metadata": {},
   "outputs": [
    {
     "data": {
      "text/plain": [
       "[Document(metadata={'source': '../bot1\\\\data\\\\monopoly.pdf', 'page': 0}, page_content='MONOPOLY \\nProperty Trading Game from Parker Brothers\" \\nAGES 8+ \\n2 to 8 Players \\nContents: Gameboard, 3 dice, tokens, 32 houses, I2 hotels, Chance \\nand Community Chest cards, Title Deed cards, play money and a Banker\\'s tray. \\nNow there\\'s a faster way to play MONOPOLY. Choose to play by \\nthe classic rules for buying, renting and selling properties or use the \\nSpeed Die to get into the action faster. If you\\'ve never played the classic \\nMONOPOLY game, refer to the Classic Rules beginning on the next page. \\nIf you already know how to play and want to use the Speed Die, just \\nread the section below for the additional Speed Die rules. \\nSPEED DIE RULES \\nLearnins how to Play with the S~eed Die IS as \\n/ \\n fast as playing with i\\'t. \\n1. When starting the game, hand out an extra $1,000 to each player \\n(two $5005 should work). The game moves fast and you\\'ll need \\nthe extra cash to buy and build. \\n2. Do not use the Speed Die until you\\'ve landed on or passed over'),\n",
       " Document(metadata={'source': '../bot1\\\\data\\\\monopoly.pdf', 'page': 0}, page_content=\"(two $5005 should work). The game moves fast and you'll need \\nthe extra cash to buy and build. \\n2. Do not use the Speed Die until you've landed on or passed over \\nGO for the first time. Once you collect that first $200 salary, you'll \\nuse the Speed Die for the rest of the game. This means that some \\nplayers will start using the die before others. \\n3. Once you start using the Speed Die, roll it along with the two \\nwhite dice on your turn. Then do the following depending on \\nwhat you rolled. \\n1, 2, or 3: Add this number to the roll of the two white \\ndice. You'll zoom around the board.\"),\n",
       " Document(metadata={'source': '../bot1\\\\data\\\\monopoly.pdf', 'page': 1}, page_content='Bus: This lets you \"get off the bus early.\" Look at the two white \\ndice. You can move the value of one die, the other die, or the \\nsum of both dice. So if you rolled a 1 and a 5, you can move \\n1 space, 5 spaces, or 6 spaces: \\\\t\\'s your choice. \\nMr. Monopoly: First, move the sum of the two white dice \\nand resolve the space you land on (such as drawing a card, \\nbuying the property, paying rent, etc.). Then, one of two \\nthings will happen depending on whether or not there is still \\nproperty in the bank. \\nYES, there is property in the bank -Advance to the NEXT \\nproperty that the bank still holds and buy it if you wish. If you \\ndon\\'t want to buy this property, move to the space anyway \\nand put the property up for auction. \\nNO, there are no more properties in the bank - Advance to the \\nNOCT property on which you will owe another player money. \\nA few minor details: \\nOnly the white dice are used when determining if you rolled doubles. \\nDo not look at the Speed Die.'),\n",
       " Document(metadata={'source': '../bot1\\\\data\\\\monopoly.pdf', 'page': 1}, page_content='NOCT property on which you will owe another player money. \\nA few minor details: \\nOnly the white dice are used when determining if you rolled doubles. \\nDo not look at the Speed Die. \\nIf you roll a three-of-a-kind (all of the dice show the same number), \\nyou can move anywhere you want on the board! \\nIf you get sent to jail during your move (either by landing on the \"Go \\nto Jail\" space or by rolling doubles three times in a row) then your turn \\nis over and you do not get to use the Speed Die for that turn. \\nUse the white dice ONLY when rolling to get out of jail. \\nL \\nUse the sum of all three dice when determining how much to pay on \\na utility. Note: The Bus and Mr. Monopoly are valued at 0. \\nCLASSIC MONOPOW RULES \\nOBJECT: The object of the game IS to become the \\nwealthiest player through buying, renting and selling \\nproperty. \\nPREPARATION: Place the board on a table and put \\nthe Chance and Community Chest cards facedown on'),\n",
       " Document(metadata={'source': '../bot1\\\\data\\\\monopoly.pdf', 'page': 1}, page_content='wealthiest player through buying, renting and selling \\nproperty. \\nPREPARATION: Place the board on a table and put \\nthe Chance and Community Chest cards facedown on \\ntheir allotted spaces on the board. Each player chooses one token to \\nrepresent himther while traveling around the board.')]"
      ]
     },
     "execution_count": 2,
     "metadata": {},
     "output_type": "execute_result"
    }
   ],
   "source": [
    "from langchain.text_splitter import RecursiveCharacterTextSplitter\n",
    "\n",
    "text_splitter=RecursiveCharacterTextSplitter(chunk_size=1000,chunk_overlap=200)    # 1000 --->500\n",
    "# documents=text_splitter.split_documents(docs)\n",
    "documents=text_splitter.split_documents(docs)\n",
    "documents[:5]\n",
    "\n",
    "# making the chunks of the data with overlap and splitting each chunks \n"
   ]
  },
  {
   "cell_type": "markdown",
   "metadata": {},
   "source": [
    "# Open AI Embeddings"
   ]
  },
  {
   "cell_type": "code",
   "execution_count": 3,
   "metadata": {},
   "outputs": [
    {
     "name": "stderr",
     "output_type": "stream",
     "text": [
      "e:\\sushant\\Jupyter Notebook\\Intern_Project\\LnagChain_chatbot\\RAG Chatbot\\myenv\\lib\\site-packages\\sentence_transformers\\cross_encoder\\CrossEncoder.py:13: TqdmWarning: IProgress not found. Please update jupyter and ipywidgets. See https://ipywidgets.readthedocs.io/en/stable/user_install.html\n",
      "  from tqdm.autonotebook import tqdm, trange\n",
      "C:\\Users\\HP\\AppData\\Local\\Temp\\ipykernel_4472\\2898794908.py:6: LangChainDeprecationWarning: The class `HuggingFaceEmbeddings` was deprecated in LangChain 0.2.2 and will be removed in 1.0. An updated version of the class exists in the langchain-huggingface package and should be used instead. To use it run `pip install -U langchain-huggingface` and import as `from langchain_huggingface import HuggingFaceEmbeddings`.\n",
      "  hf = HuggingFaceEmbeddings(\n"
     ]
    }
   ],
   "source": [
    "from sentence_transformers import SentenceTransformer\n",
    "from langchain_community.embeddings import HuggingFaceEmbeddings\n",
    "from langchain_community.vectorstores import FAISS\n",
    "model = \"sentence-transformers/all-mpnet-base-v2\"\n",
    "\n",
    "hf = HuggingFaceEmbeddings(\n",
    "    model_name = model,\n",
    "    model_kwargs = {'device' : 'cpu'},\n",
    "    encode_kwargs = {'normalize_embeddings' : False},\n",
    ")"
   ]
  },
  {
   "cell_type": "code",
   "execution_count": 4,
   "metadata": {},
   "outputs": [],
   "source": [
    "# making the index of faiss\n",
    "import faiss\n",
    "index = faiss.IndexFlatL2(len(hf.embed_query(\"Hello World\")))"
   ]
  },
  {
   "cell_type": "code",
   "execution_count": 6,
   "metadata": {},
   "outputs": [
    {
     "data": {
      "text/plain": [
       "['d9a750ab-0222-4460-a148-7dd4f999f62e',\n",
       " '2904fa9d-832e-40ad-ae88-0abdf5bbd193',\n",
       " '1047d1d1-4ed0-4381-86ba-99302c78ebc2',\n",
       " '44f6e5ae-d98b-424e-89e4-a4c75a221b3a',\n",
       " '04a02481-b709-4354-b597-4bf02308944f',\n",
       " 'cb494db7-9335-4900-9071-2328e1351b3e',\n",
       " '71190197-79d7-4db1-b492-8392790cd2a3',\n",
       " '1807b0a8-a478-47fb-96d3-36ce6cf4acc8',\n",
       " '1f54d4bd-448c-4d61-a787-7b05388b28f3',\n",
       " '0b21d6bf-d5a7-43fd-a274-acc913d6f297',\n",
       " '101823bc-4de7-4210-a795-c0ef8a3524a2',\n",
       " 'e9343966-0198-43df-ae8d-9c081f4f78ff',\n",
       " '87f7013f-1e61-4a06-bbd4-480e5a8c7ffb',\n",
       " '6fe83d7f-6aa7-4a24-af79-273e6466689c',\n",
       " 'fe71b5e3-3b83-4b47-a8ac-5a099ebdb95a',\n",
       " 'e025e541-22fe-41cf-8b87-58fdbb2c736d',\n",
       " '848fcb2a-ece7-434e-ac47-ed07e3f9523f',\n",
       " '531dad81-ea2e-4945-813f-e79cea17c931',\n",
       " 'ec8c3aa9-7a8d-42fb-841d-c2eeda311146',\n",
       " '34fa267e-b239-4866-9be4-7895939e8a82',\n",
       " '6279aebd-887d-42ae-ab96-eabd43bb30e9',\n",
       " '5a3c2153-0d5f-47a2-ad28-7f499e4ddab7',\n",
       " '1a854f12-9b6c-4a88-9770-de8c619e1ce7']"
      ]
     },
     "execution_count": 6,
     "metadata": {},
     "output_type": "execute_result"
    }
   ],
   "source": [
    "from langchain_community.docstore.in_memory import InMemoryDocstore\n",
    "\n",
    "# vector store combinding the index of faiss and embedding form our model\n",
    "vector_store = FAISS(\n",
    "    embedding_function = hf,\n",
    "    index = index,\n",
    "    docstore = InMemoryDocstore(),\n",
    "    index_to_docstore_id = {},\n",
    ")\n",
    "\n",
    "## FAISS Vector Database - using OPENAI embeddings\n",
    "# just making and storing the first fifteen chunks of the data \n",
    "\n",
    "vector_store.add_documents(documents=documents)"
   ]
  },
  {
   "cell_type": "code",
   "execution_count": 10,
   "metadata": {},
   "outputs": [],
   "source": [
    "from langchain.embeddings import OpenAIEmbeddings  # or your specific embedding model\n",
    "\n",
    "# Initialize the embedding model\n",
    "embeddings = OpenAIEmbeddings()  # Replace with the actual embedding class you used earlier\n",
    "\n",
    "# Save the vector store\n",
    "vector_store.save_local(\"FAISS_STORE1\")\n",
    "\n",
    "# Load the vector store with embeddings and allow dangerous deserialization\n",
    "loaded_vector_store = vector_store.load_local(\n",
    "    \"FAISS_STORE\", embeddings=embeddings, allow_dangerous_deserialization=True\n",
    ")\n"
   ]
  },
  {
   "cell_type": "code",
   "execution_count": 11,
   "metadata": {},
   "outputs": [
    {
     "data": {
      "text/plain": [
       "<faiss.swigfaiss_avx2.IndexFlatL2; proxy of <Swig Object of type 'faiss::IndexFlatL2 *' at 0x0000014B39F5B300> >"
      ]
     },
     "execution_count": 11,
     "metadata": {},
     "output_type": "execute_result"
    }
   ],
   "source": [
    "index"
   ]
  },
  {
   "cell_type": "code",
   "execution_count": 12,
   "metadata": {},
   "outputs": [
    {
     "ename": "ImportError",
     "evalue": "cannot import name 'Ollama' from 'langchain_community' (e:\\sushant\\Jupyter Notebook\\Intern_Project\\LnagChain_chatbot\\RAG Chatbot\\myenv\\lib\\site-packages\\langchain_community\\__init__.py)",
     "output_type": "error",
     "traceback": [
      "\u001b[1;31m---------------------------------------------------------------------------\u001b[0m",
      "\u001b[1;31mImportError\u001b[0m                               Traceback (most recent call last)",
      "Cell \u001b[1;32mIn[12], line 1\u001b[0m\n\u001b[1;32m----> 1\u001b[0m \u001b[39mfrom\u001b[39;00m \u001b[39mlangchain_community\u001b[39;00m \u001b[39mimport\u001b[39;00m Ollama\n\u001b[0;32m      3\u001b[0m \u001b[39m# Load Ollama LLAMA2 model\u001b[39;00m\n\u001b[0;32m      4\u001b[0m llm \u001b[39m=\u001b[39m Ollama(model \u001b[39m=\u001b[39m \u001b[39m\"\u001b[39m\u001b[39mllama2\u001b[39m\u001b[39m\"\u001b[39m)\n",
      "\u001b[1;31mImportError\u001b[0m: cannot import name 'Ollama' from 'langchain_community' (e:\\sushant\\Jupyter Notebook\\Intern_Project\\LnagChain_chatbot\\RAG Chatbot\\myenv\\lib\\site-packages\\langchain_community\\__init__.py)"
     ]
    }
   ],
   "source": [
    "from langchain_community import Ollama\n",
    "\n",
    "# Load Ollama LLAMA2 model\n",
    "llm = Ollama(model = \"llama2\")\n",
    "llm"
   ]
  },
  {
   "cell_type": "code",
   "execution_count": 20,
   "metadata": {},
   "outputs": [
    {
     "name": "stdout",
     "output_type": "stream",
     "text": [
      "Response: Hello, everybody! This is the latest installment of Hello World!, our monthly blog series celebrating all things tech. As we kick off the new year, let's take a look back at what made the past few months so special and forward to what's to come in 2021.\n",
      "\n",
      "Let's start with the big one: Apple released their latest product lineup on September 15th, and it was nothing short of spectacular. The new iPhone 12 and 12 mini were sleek, stylish, and packed with all of the latest features and technologies. I spent a few days using the iPhone 12 Pro Max for my own personal reasons and can say that they truly delivered on their promises to enhance your day-to-day experiences.\n",
      "\n",
      "One of the standout features of the iPhone 12 is its new camera system, which boasts a 48-megapixel triple-lens setup on both models. The 12 mini has a 5-megapixel telephoto lens and an 11-megapixel ultra-wide lens. Both phones come with the latest A14 Bionic chip, which is one of the fastest mobile processors on the market.\n",
      "\n",
      "Following Apple's iPhone launch, Samsung also announced their new lineup of Galaxy devices for 2021. The Samsung Galaxy S20 and S20+ were incredibly popular with users, with both models receiving high praise for their design, performance, and features.\n",
      "\n",
      "Another exciting tech event of the year was the release of the Microsoft Surface Duo, a smartphone/tablet hybrid that combines the best of both worlds. The Surface Duo features a 5G-capable Samsung Exynos chipset and a powerful dual-core CPU, along with an ultra-wide camera and excellent battery life.\n",
      "\n",
      "We also saw some exciting developments in the world of streaming media this year. Netflix released its new Original series, The Queen's Gambit, which was critically acclaimed for its unique take on the classic TV show genre. Another hit was Disney+, which added Marvel and Star Wars content to its library.\n",
      "\n",
      "But it wasn't all tech news. Apart from the release of Netflix's The Queen's Gambit, we also saw a slew of new sci-fi series and movies released in 2020. One of the most notable was Chilling Adventures of Sabrina: Part 3, the final season of Netflix's TV show based on the Archie Comics.\n",
      "\n",
      "Of course, let's not forget about gaming and mobile gaming in particular. Sony released its new PlayStation 5, which is a game changer in terms of performance and features. The PSVR2 VR headset also made waves this year for being the first product to ship from Sony's new facility outside of Japan.\n",
      "\n",
      "And let's not forget about video games themselves! Nintendo released Super Mario Bros. 35, a new version of the iconic game featuring updated graphics and sound effects. Square Enix also gave us Final Fantasy VII Remake II in March, which was another smash hit for the franchise.\n",
      "\n",
      "One thing that surprised many people this year is the sudden rise of cryptocurrency and blockchain technology. Bitcoin has been a sensation lately, and we saw major investments from large institutions like BlackRock and Goldman Sachs. Additionally, NFT (non-fungible token) sales have skyrocketed, with many high-profile artists selling their digital artwork for millions of dollars.\n",
      "\n",
      "We also saw the rise of VR and AR technologies in 2020, which was a huge trend that will continue into next year. One of the most notable virtual reality experiences was Meta's Facebook Portal, which offers users a unique way to interact with friends and family via video chat.\n",
      "\n",
      "In terms of business innovation, we saw some major developments from Microsoft this year. They released Windows 10X, a new operating system for laptops designed to run on Intel-based machines like the i7-1065G7. Additionally, they also launched their first-ever AR headset, which is expected to be the next big thing in augmented reality.\n",
      "\n",
      "But perhaps one of the most notable innovations this year was Google's Stadia gaming platform. Stadia offers users a unique way to play games on any device, including smartphones and tablets, with the ability to stream gameplay directly onto your TV screen. It also includes a robust library of games, which makes it an excellent choice for gamers who want to play their favorite titles without installing anything.\n",
      "\n",
      "As we look forward to 2021, there are several exciting developments that promise to change the way we live and work. The COVID-19 pandemic has significantly affected businesses globally, leading to a surge in remote work arrangements and software development. One of the most promising trends is the rise of cloud computing, which promises to reduce costs for companies while enabling them to scale up or down as needed.\n",
      "\n",
      "Another trend that we are likely to see is the convergence of AI and virtual reality (VR). In 2021, we will likely see advancements in machine learning and neural networks, which will enable VR experiences to become more immersive and realistic. This means that users will be able to interact with their surroundings in a way never seen before, creating a truly immersive experience for the user.\n",
      "\n",
      "As we move forward into 2021, it's clear that AI and virtual reality technologies are poised to revolutionize our lives in ways we can't even imagine. And with Microsoft and Google's continued investment and innovation in these fields, we're confident that this year will be another exciting one for tech and gaming news.\n",
      "\n",
      "Thank you for joining us on this journey through Hello World!\n"
     ]
    }
   ],
   "source": [
    "from langchain.llms import Ollama\n",
    "\n",
    "# Initialize the LLM model (replace with the appropriate model name if different)\n",
    "llm = Ollama(model=\"tinyllama:latest\")  # Or \"tinyllama:latest\" if it exists\n",
    "\n",
    "# Test the model with a sample prompt\n",
    "try:\n",
    "    response = llm(\"Hello, world!\")  # Input your test prompt here\n",
    "    print(\"Response:\", response)\n",
    "except Exception as e:\n",
    "    print(\"Error:\", e)\n"
   ]
  },
  {
   "cell_type": "code",
   "execution_count": 22,
   "metadata": {},
   "outputs": [
    {
     "data": {
      "text/plain": [
       "Ollama(model='tinyllama:latest')"
      ]
     },
     "execution_count": 22,
     "metadata": {},
     "output_type": "execute_result"
    }
   ],
   "source": [
    "llm"
   ]
  },
  {
   "cell_type": "markdown",
   "metadata": {},
   "source": [
    "# design Chatbot Template"
   ]
  },
  {
   "cell_type": "code",
   "execution_count": null,
   "metadata": {},
   "outputs": [],
   "source": [
    "# from langchain_core.prompts import ChatPromptTemplate\n",
    "\n",
    "# prompt = ChatPromptTemplate.from_template(\"\"\"\n",
    "#                                           Answer the following question based only on the provided context. \n",
    "#                                           Think step by step before providing a detailed answer.\n",
    "#                                           <context>\n",
    "#                                           {context} \n",
    "#                                           </context>\n",
    "#                                           Question:{input}\n",
    "#                                     \"\"\")"
   ]
  },
  {
   "cell_type": "code",
   "execution_count": 23,
   "metadata": {},
   "outputs": [],
   "source": [
    "from langchain_core.prompts import ChatPromptTemplate\n",
    "\n",
    "prompt = ChatPromptTemplate.from_template(\"\"\"\n",
    "You are a helpful assistant that answers questions based on the provided context. Follow these steps:\n",
    "\n",
    "1. **Carefully read the provided context**: Understand the key points and any details that may be relevant to the question being asked.\n",
    "2. **Analyze the question**: Think about how the context and the question relate to each other.\n",
    "3. **Break down your answer logically**: Use the context to form a structured response, step by step, to ensure accuracy.\n",
    "4. **Provide a detailed explanation**: Explain your reasoning clearly and comprehensively, ensuring that the answer is well-supported by the context.\n",
    "\n",
    "Context:\n",
    "{context}\n",
    "\n",
    "Question:\n",
    "{input}\n",
    "\n",
    "Instructions:\n",
    "- Be sure to base your answer only on the provided context, even if you have prior knowledge on the subject.\n",
    "- If the context doesn't provide enough information to answer the question, clearly mention that.\n",
    "- Your answer should be detailed and well-reasoned, breaking down each step of your thought process.\n",
    "\n",
    "Please provide your detailed, step-by-step answer below.\n",
    "\"\"\")\n"
   ]
  },
  {
   "cell_type": "markdown",
   "metadata": {},
   "source": [
    "# Chain Introduction"
   ]
  },
  {
   "cell_type": "code",
   "execution_count": 24,
   "metadata": {},
   "outputs": [],
   "source": [
    "# create stuff document chain\n",
    "\n",
    "from langchain.chains.combine_documents import create_stuff_documents_chain\n",
    "\n",
    "document_chain = create_stuff_documents_chain(llm, prompt)"
   ]
  },
  {
   "cell_type": "markdown",
   "metadata": {},
   "source": [
    "A retriever is an interface that returns documents given an unstructured query. It is more general than a vector store. A retriever does not need to be able to store documents, only to return (or retrieve) them. Vector stores can be used as the backbone of a retriever, but there are other types of retrievers as well.\n",
    "\n",
    "Retrievers accept a string query as input and return a list of Document's as output."
   ]
  },
  {
   "cell_type": "code",
   "execution_count": 26,
   "metadata": {},
   "outputs": [
    {
     "data": {
      "text/plain": [
       "VectorStoreRetriever(tags=['FAISS', 'HuggingFaceEmbeddings'], vectorstore=<langchain_community.vectorstores.faiss.FAISS object at 0x0000014B003ACDC0>)"
      ]
     },
     "execution_count": 26,
     "metadata": {},
     "output_type": "execute_result"
    }
   ],
   "source": [
    "retriver = vector_store.as_retriever()\n",
    "retriver"
   ]
  },
  {
   "cell_type": "markdown",
   "metadata": {},
   "source": [
    "*combine retriver and document chain to form a Retrival Chain*\n",
    "\n",
    "A retrieval chain is a method for answering questions by combining a retriever with a document chain. The retriever's job is to extract the content of the most recent message from a list of input messages and pass it to the document chain, which then generates a response. "
   ]
  },
  {
   "cell_type": "code",
   "execution_count": 27,
   "metadata": {},
   "outputs": [],
   "source": [
    "# retriver chain\n",
    "\n",
    "from langchain.chains import  create_retrieval_chain\n",
    "\n",
    "\n",
    "retrival_chain = create_retrieval_chain(retriver, document_chain)"
   ]
  },
  {
   "cell_type": "code",
   "execution_count": 30,
   "metadata": {},
   "outputs": [],
   "source": [
    "response = retrival_chain.invoke({\"input\":\"How to play monopoly?\"})"
   ]
  },
  {
   "cell_type": "code",
   "execution_count": 31,
   "metadata": {},
   "outputs": [
    {
     "data": {
      "text/plain": [
       "\"To play Monopoly, follow these instructions:\\n\\n1. Start by handing out an extra $1,000 to each player (two $5005 should work). The game moves fast and you'll need 2 white dice to move a value of one or 5 spaces.\\n\\n2. Mr. Monopoly is the only property left in the bank and there are no more properties in the bank. If you don't want to buy any more properties, move to the space anyway and put the property up for auction (you owe another player money).\\n\\n3. The Speed Die is used to determine if you rolled doubles, as described above. If you rolled doubles three times in a row, you can move anywhere you want on the board! Otherwise, do not look at the Speed Die.\\n\\n4. Each player moves their token through the board and buys properties one space at a time with money from the banker. The Banker collects all taxes, fine, loan, and interest payments.\\n\\n5. When you land on or pass over another player's property in the bank, they owe you money (the price of their property). If you don't want to buy this property, move to the space anyway and put it up for auction. If you do not want to buy, move to the next property as usual.\\n\\n6. Once all players have landed on or passed over their banker's property, turn over the Utility cards. Each player chooses one Utility card at random, and they place it on the space where it has value (either $5 or $10). The player also collects any money they paid for that utility card in cash.\\n\\n7. After all players have utilities, move onto a new space. You may be sent to jail if you owe more than you can pay off within the time limit (if any) specified by the rules. If not, continue playing until everyone has landed on or passed over their banker's property again.\\n\\n8. Once all players have landed on their banker's property once, players must move to a new space and begin playing again. If another player lands on their property, they can move as well.\\n\\n9. The game moves quickly and continues until only one player is left standing (or until the time limit runs out). When someone wins, the Banker collects all taxes, fines, loans, and interest payments, and the players receive their winning amounts and move on to the next round of play.\\n\\nIn conclusion: Monopoly is a classic game that requires quick thinking and strategy. It's easy to learn and fun for everyone involved. Remember, you don't have to win to enjoy the game - it's all about having fun playing with your friends!\""
      ]
     },
     "execution_count": 31,
     "metadata": {},
     "output_type": "execute_result"
    }
   ],
   "source": [
    "response[\"answer\"]"
   ]
  },
  {
   "cell_type": "code",
   "execution_count": 32,
   "metadata": {},
   "outputs": [
    {
     "data": {
      "text/plain": [
       "{'input': 'How to play monopoly?',\n",
       " 'context': [Document(metadata={'source': '../bot1\\\\data\\\\monopoly.pdf', 'page': 0}, page_content='MONOPOLY \\nProperty Trading Game from Parker Brothers\" \\nAGES 8+ \\n2 to 8 Players \\nContents: Gameboard, 3 dice, tokens, 32 houses, I2 hotels, Chance \\nand Community Chest cards, Title Deed cards, play money and a Banker\\'s tray. \\nNow there\\'s a faster way to play MONOPOLY. Choose to play by \\nthe classic rules for buying, renting and selling properties or use the \\nSpeed Die to get into the action faster. If you\\'ve never played the classic \\nMONOPOLY game, refer to the Classic Rules beginning on the next page. \\nIf you already know how to play and want to use the Speed Die, just \\nread the section below for the additional Speed Die rules. \\nSPEED DIE RULES \\nLearnins how to Play with the S~eed Die IS as \\n/ \\n fast as playing with i\\'t. \\n1. When starting the game, hand out an extra $1,000 to each player \\n(two $5005 should work). The game moves fast and you\\'ll need \\nthe extra cash to buy and build. \\n2. Do not use the Speed Die until you\\'ve landed on or passed over'),\n",
       "  Document(metadata={'source': '../bot1\\\\data\\\\monopoly.pdf', 'page': 1}, page_content='Bus: This lets you \"get off the bus early.\" Look at the two white \\ndice. You can move the value of one die, the other die, or the \\nsum of both dice. So if you rolled a 1 and a 5, you can move \\n1 space, 5 spaces, or 6 spaces: \\\\t\\'s your choice. \\nMr. Monopoly: First, move the sum of the two white dice \\nand resolve the space you land on (such as drawing a card, \\nbuying the property, paying rent, etc.). Then, one of two \\nthings will happen depending on whether or not there is still \\nproperty in the bank. \\nYES, there is property in the bank -Advance to the NEXT \\nproperty that the bank still holds and buy it if you wish. If you \\ndon\\'t want to buy this property, move to the space anyway \\nand put the property up for auction. \\nNO, there are no more properties in the bank - Advance to the \\nNOCT property on which you will owe another player money. \\nA few minor details: \\nOnly the white dice are used when determining if you rolled doubles. \\nDo not look at the Speed Die.'),\n",
       "  Document(metadata={'source': '../bot1\\\\data\\\\monopoly.pdf', 'page': 1}, page_content='NOCT property on which you will owe another player money. \\nA few minor details: \\nOnly the white dice are used when determining if you rolled doubles. \\nDo not look at the Speed Die. \\nIf you roll a three-of-a-kind (all of the dice show the same number), \\nyou can move anywhere you want on the board! \\nIf you get sent to jail during your move (either by landing on the \"Go \\nto Jail\" space or by rolling doubles three times in a row) then your turn \\nis over and you do not get to use the Speed Die for that turn. \\nUse the white dice ONLY when rolling to get out of jail. \\nL \\nUse the sum of all three dice when determining how much to pay on \\na utility. Note: The Bus and Mr. Monopoly are valued at 0. \\nCLASSIC MONOPOW RULES \\nOBJECT: The object of the game IS to become the \\nwealthiest player through buying, renting and selling \\nproperty. \\nPREPARATION: Place the board on a table and put \\nthe Chance and Community Chest cards facedown on'),\n",
       "  Document(metadata={'source': '../bot1\\\\data\\\\monopoly.pdf', 'page': 2}, page_content=\"Each player is given $1,500 divided as follows: P each of $500s, \\n$100~ and $50~; 6 $40~; 5 each of $105, $5~ and $Is. \\nAll remaining money and other equipment go to the Bank. Stack the .. \\nBank's money on edge in the compartments in the plastic Banker's tray. \\nBANKER. Select as Banker a player who will also \\nmake a good Auctioneer A Banker who plays \\n~n the game must keep hislher personal funds \\nseparate from those of the Bank. When more than \\nf~ve persons play, the Banker may elect to act only \\nas Banker and Auctioneer. \\nTHE BANK: Besides the Bank's money, the Bank \\nholds the Title Deed cards and houses and hotels prior to purchase \\nand use by the players. The Bank pays salaries and bonuses. It sells \\nand auctions properties and hands out the~r proper Title Deed cards; \\nit sells houses and hotels to the players and loans money when \\nrequired on mortgages. \\nThe Bank collects all taxes, fines, loans and interest, and the price of \\nall properties which it sells and auctions.\")],\n",
       " 'answer': \"To play Monopoly, follow these instructions:\\n\\n1. Start by handing out an extra $1,000 to each player (two $5005 should work). The game moves fast and you'll need 2 white dice to move a value of one or 5 spaces.\\n\\n2. Mr. Monopoly is the only property left in the bank and there are no more properties in the bank. If you don't want to buy any more properties, move to the space anyway and put the property up for auction (you owe another player money).\\n\\n3. The Speed Die is used to determine if you rolled doubles, as described above. If you rolled doubles three times in a row, you can move anywhere you want on the board! Otherwise, do not look at the Speed Die.\\n\\n4. Each player moves their token through the board and buys properties one space at a time with money from the banker. The Banker collects all taxes, fine, loan, and interest payments.\\n\\n5. When you land on or pass over another player's property in the bank, they owe you money (the price of their property). If you don't want to buy this property, move to the space anyway and put it up for auction. If you do not want to buy, move to the next property as usual.\\n\\n6. Once all players have landed on or passed over their banker's property, turn over the Utility cards. Each player chooses one Utility card at random, and they place it on the space where it has value (either $5 or $10). The player also collects any money they paid for that utility card in cash.\\n\\n7. After all players have utilities, move onto a new space. You may be sent to jail if you owe more than you can pay off within the time limit (if any) specified by the rules. If not, continue playing until everyone has landed on or passed over their banker's property again.\\n\\n8. Once all players have landed on their banker's property once, players must move to a new space and begin playing again. If another player lands on their property, they can move as well.\\n\\n9. The game moves quickly and continues until only one player is left standing (or until the time limit runs out). When someone wins, the Banker collects all taxes, fines, loans, and interest payments, and the players receive their winning amounts and move on to the next round of play.\\n\\nIn conclusion: Monopoly is a classic game that requires quick thinking and strategy. It's easy to learn and fun for everyone involved. Remember, you don't have to win to enjoy the game - it's all about having fun playing with your friends!\"}"
      ]
     },
     "execution_count": 32,
     "metadata": {},
     "output_type": "execute_result"
    }
   ],
   "source": [
    "response"
   ]
  },
  {
   "cell_type": "code",
   "execution_count": null,
   "metadata": {},
   "outputs": [],
   "source": []
  }
 ],
 "metadata": {
  "kernelspec": {
   "display_name": "myenv",
   "language": "python",
   "name": "python3"
  },
  "language_info": {
   "codemirror_mode": {
    "name": "ipython",
    "version": 3
   },
   "file_extension": ".py",
   "mimetype": "text/x-python",
   "name": "python",
   "nbconvert_exporter": "python",
   "pygments_lexer": "ipython3",
   "version": "3.8.18"
  },
  "orig_nbformat": 4
 },
 "nbformat": 4,
 "nbformat_minor": 2
}
